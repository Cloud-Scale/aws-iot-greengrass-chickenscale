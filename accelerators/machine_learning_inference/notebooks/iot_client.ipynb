{
 "cells": [
  {
   "cell_type": "code",
   "execution_count": null,
   "metadata": {},
   "outputs": [],
   "source": [
    "import random\n",
    "import json"
   ]
  },
  {
   "cell_type": "code",
   "execution_count": null,
   "metadata": {},
   "outputs": [],
   "source": [
    "!python3 -m pip install AWSIoTPythonSDK"
   ]
  },
  {
   "cell_type": "code",
   "execution_count": null,
   "metadata": {},
   "outputs": [],
   "source": [
    "AWS_REGION = \"us-east-1\"\n",
    "WORK_FOLDER = \".\"\n",
    "PRIVATE_KEY_OUTFILE = \"iot_client.private.key\"\n",
    "PUBLIC_KEY_OUTFILE = \"iot_client.public.key\"\n",
    "CERT_PEM_OUTFILE = \"iot_client.cert.pem\"\n",
    "GREENGRASSS_CORENAME = \"toradex2\"\n",
    "THIS_IOT_CLIENT_NAME = \"mqttClient_{}\".format(random.randint(0,100))\n",
    "AWS_REGION = \"us-east-1\""
   ]
  },
  {
   "cell_type": "code",
   "execution_count": null,
   "metadata": {},
   "outputs": [],
   "source": [
    "!wget -q https://www.amazontrust.com/repository/AmazonRootCA1.pem"
   ]
  },
  {
   "cell_type": "code",
   "execution_count": null,
   "metadata": {},
   "outputs": [],
   "source": [
    "import boto3\n",
    "\n",
    "client = boto3.client('iot')\n",
    "\n",
    "response = client.create_keys_and_certificate(\n",
    "    setAsActive=True\n",
    ")"
   ]
  },
  {
   "cell_type": "code",
   "execution_count": null,
   "metadata": {},
   "outputs": [],
   "source": [
    "client.create_thing(thingName=THIS_IOT_CLIENT_NAME)\n",
    "client.attach_thing_principal(\n",
    "            thingName=THIS_IOT_CLIENT_NAME, principal=response['certificateArn'])\n",
    "\n",
    "policy_name=\"policy-{}\".format(THIS_IOT_CLIENT_NAME)\n",
    "\n",
    "policy=json.dumps(\n",
    "    {\n",
    "        \"Version\": \"2012-10-17\",\n",
    "        \"Statement\": [{\n",
    "            \"Effect\": \"Allow\",\n",
    "            \"Action\": [\n",
    "                # \"iot:*\"\n",
    "                \"iot:Connect\",\n",
    "                \"iot:Publish\",\n",
    "                \"iot:Receive\",\n",
    "                \"iot:Subscribe\"\n",
    "            ],\n",
    "            \"Resource\": [\n",
    "                \"arn:aws:iot:{0}:*:*\".format(AWS_REGION)\n",
    "            ]\n",
    "        }]\n",
    "    }\n",
    ")\n",
    "\n",
    "client.create_policy(policyName=policy_name, policyDocument=policy)\n",
    "\n",
    "client.attach_principal_policy(policyName=policy_name, principal=response['certificateArn'])"
   ]
  },
  {
   "cell_type": "code",
   "execution_count": null,
   "metadata": {},
   "outputs": [],
   "source": [
    "with open('private.key', 'w') as file:\n",
    "    file.write(response[\"keyPair\"][\"PrivateKey\"])\n",
    "\n",
    "with open('cert.pem', 'w') as file:\n",
    "    file.write(response[\"certificatePem\"])"
   ]
  },
  {
   "cell_type": "code",
   "execution_count": null,
   "metadata": {},
   "outputs": [],
   "source": [
    "from AWSIoTPythonSDK.MQTTLib import AWSIoTMQTTClient\n",
    "import boto3\n",
    "import os\n",
    "import numpy as np\n",
    "import matplotlib.pyplot as plt\n",
    "import cv2\n",
    "\n",
    "client = boto3.client('iot', region_name=AWS_REGION)\n",
    "endpoint = client.describe_endpoint(\n",
    "    endpointType='iot:Data-ATS'\n",
    ")\n",
    "\n",
    "# Custom MQTT message callback\n",
    "def subscriptionCallback(client, userdata, message):\n",
    "    payload = message.payload\n",
    "    nparr = np.frombuffer(payload, np.uint8) #.reshape(h, w, nb_planes )\n",
    "    image = cv2.imdecode(nparr, cv2.IMREAD_COLOR)\n",
    "    plt.imshow(image)\n",
    "    \n",
    "awsIoTMqttClient = AWSIoTMQTTClient(\"myClientID\")\n",
    "awsIoTMqttClient.configureEndpoint(endpoint.get('endpointAddress'), 8883)\n",
    "awsIoTMqttClient.configureCredentials( \"AmazonRootCA1.pem\", \"private.key\", \"cert.pem\")\n",
    "awsIoTMqttClient.connect()\n",
    "awsIoTMqttClient.subscribe(\"mli/predictions/{}\".format(CORENAME), 1, subscriptionCallback)\n",
    "key_pressed = input('Press ENTER to stop subscription')\n",
    "awsIoTMqttClient.disconnect()"
   ]
  },
  {
   "cell_type": "code",
   "execution_count": null,
   "metadata": {},
   "outputs": [],
   "source": []
  }
 ],
 "metadata": {
  "kernelspec": {
   "display_name": "conda_mxnet_p36",
   "language": "python",
   "name": "conda_mxnet_p36"
  },
  "language_info": {
   "codemirror_mode": {
    "name": "ipython",
    "version": 3
   },
   "file_extension": ".py",
   "mimetype": "text/x-python",
   "name": "python",
   "nbconvert_exporter": "python",
   "pygments_lexer": "ipython3",
   "version": "3.6.5"
  }
 },
 "nbformat": 4,
 "nbformat_minor": 4
}
